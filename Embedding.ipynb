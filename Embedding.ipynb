{
 "cells": [
  {
   "cell_type": "code",
   "execution_count": 1,
   "metadata": {},
   "outputs": [
    {
     "name": "stdout",
     "output_type": "stream",
     "text": [
      "WARNING:tensorflow:From c:\\Users\\AriZu\\.conda\\envs\\pytorchstudy\\lib\\site-packages\\tf_keras\\src\\losses.py:2976: The name tf.losses.sparse_softmax_cross_entropy is deprecated. Please use tf.compat.v1.losses.sparse_softmax_cross_entropy instead.\n",
      "\n"
     ]
    },
    {
     "data": {
      "text/plain": [
       "'cuda'"
      ]
     },
     "execution_count": 1,
     "metadata": {},
     "output_type": "execute_result"
    }
   ],
   "source": [
    "import os\n",
    "import numpy as np\n",
    "import chromadb\n",
    "from sentence_transformers import SentenceTransformer\n",
    "import re\n",
    "import torch\n",
    "device = \"cuda\" if torch.cuda.is_available() else \"cpu\"\n",
    "device"
   ]
  },
  {
   "cell_type": "code",
   "execution_count": 2,
   "metadata": {},
   "outputs": [],
   "source": [
    "# 设置路径\n",
    "chunk_folder = \"Chunk_file_folder\"\n",
    "vector_store_path = \"vector_store\"\n",
    "\n",
    "# 读取所有 chunk 文件\n",
    "chunk_files = [f for f in os.listdir(chunk_folder)]"
   ]
  },
  {
   "cell_type": "code",
   "execution_count": 3,
   "metadata": {},
   "outputs": [
    {
     "name": "stderr",
     "output_type": "stream",
     "text": [
      "Some weights of the model checkpoint at Alibaba-NLP/gte-multilingual-base were not used when initializing NewModel: {'classifier.weight', 'classifier.bias'}\n",
      "- This IS expected if you are initializing NewModel from the checkpoint of a model trained on another task or with another architecture (e.g. initializing a BertForSequenceClassification model from a BertForPreTraining model).\n",
      "- This IS NOT expected if you are initializing NewModel from the checkpoint of a model that you expect to be exactly identical (initializing a BertForSequenceClassification model from a BertForSequenceClassification model).\n"
     ]
    }
   ],
   "source": [
    "embedding_model = SentenceTransformer(\"Alibaba-NLP/gte-multilingual-base\", trust_remote_code=True, device=device)"
   ]
  },
  {
   "cell_type": "code",
   "execution_count": 4,
   "metadata": {},
   "outputs": [],
   "source": [
    "#使用 ChromaDB 持久化存储向量数据，路径为 vector_store_path。\n",
    "#如果 psychology_chunks 这个 collection 存在，就获取它，否则创建。\n",
    "client = chromadb.PersistentClient(path=vector_store_path)\n",
    "collection = client.get_or_create_collection(name=\"psychology_chunks\")"
   ]
  },
  {
   "cell_type": "code",
   "execution_count": 5,
   "metadata": {},
   "outputs": [],
   "source": [
    "'''逐行读取 chunk 文件，将 chunk 之间的 换行格式保持不变。\n",
    "\n",
    "按 \"chunk \" 关键字拆分文本：\n",
    "每遇到 \"chunk \"，就创建一个新的 chunk。\n",
    "跳过 \"-----\" 之类的分隔符。\n",
    "返回 chunks 列表，每个 chunk 是一个完整的段落。'''\n",
    "def process_chunk_file(file_path): \n",
    "    \"\"\"读取 chunk 文件并返回文本列表，保持原始换行结构\"\"\"\n",
    "    with open(file_path, \"r\", encoding=\"utf-8\") as f:\n",
    "        chunks = []\n",
    "        current_chunk = []\n",
    "        for line in f:\n",
    "            if line.startswith(\"chunk \"):  # 检测新 chunk 起始\n",
    "                if current_chunk:\n",
    "                    chunks.append(\"\\n\".join(current_chunk))  # 保持原始换行\n",
    "                    current_chunk = []\n",
    "            elif line.strip() and not line.startswith(\"-\"):\n",
    "                current_chunk.append(line.strip())  \n",
    "        if current_chunk:\n",
    "            chunks.append(\"\\n\".join(current_chunk))  # 最后一个 chunk 也要加入\n",
    "    return chunks\n",
    "\n",
    "\n",
    "def process_table_file(file_path):\n",
    "    \"\"\"读取 _tables.txt 文件并转换为 Markdown 表格格式\"\"\"\n",
    "    with open(file_path, \"r\", encoding=\"utf-8\") as f:\n",
    "        table_texts = []\n",
    "        current_table = []\n",
    "        table_headers = None\n",
    "\n",
    "        for line in f:\n",
    "            if re.fullmatch(r\"=+\", line.strip()):  # 识别表格分隔符\n",
    "                if current_table:\n",
    "                    # 处理表格：使用 Markdown 格式\n",
    "                    table_str = \"\\n\".join([\" | \".join(row) for row in current_table])\n",
    "                    if table_headers:\n",
    "                        table_str = table_headers + \"\\n\" + \"-\" * len(table_headers) + \"\\n\" + table_str\n",
    "                    table_texts.append(table_str)\n",
    "                    current_table = []\n",
    "            elif line.strip():\n",
    "                cols = line.strip().split()  # 可能是列数据\n",
    "                if not table_headers:\n",
    "                    table_headers = \" | \".join(cols)  # 记录表头\n",
    "                else:\n",
    "                    current_table.append(cols)\n",
    "\n",
    "        if current_table:\n",
    "            table_str = \"\\n\".join([\" | \".join(row) for row in current_table])\n",
    "            if table_headers:\n",
    "                table_str = table_headers + \"\\n\" + \"-\" * len(table_headers) + \"\\n\" + table_str\n",
    "            table_texts.append(table_str)\n",
    "\n",
    "    return table_texts\n",
    "\n"
   ]
  },
  {
   "cell_type": "code",
   "execution_count": 6,
   "metadata": {},
   "outputs": [
    {
     "name": "stdout",
     "output_type": "stream",
     "text": [
      "Processing: Complex PTSD_ From Surviving to Thriving_tables.txt\n",
      "Processing: Complex PTSD_ From Surviving to Thriving_text.txt\n",
      "Finished: Complex PTSD_ From Surviving to Thriving_text.txt, stored 918 chunks in vector store\n",
      "Processing: GPMHSC-Suicide-prevention-and-first-aid-resource-for-GPs_tables.txt\n",
      "Processing: GPMHSC-Suicide-prevention-and-first-aid-resource-for-GPs_text.txt\n",
      "Finished: GPMHSC-Suicide-prevention-and-first-aid-resource-for-GPs_text.txt, stored 28 chunks in vector store\n",
      "Processing: therapists_guide_to_brief_cbtmanual_tables.txt\n",
      "Processing: therapists_guide_to_brief_cbtmanual_text.txt\n",
      "Finished: therapists_guide_to_brief_cbtmanual_text.txt, stored 541 chunks in vector store\n",
      "All done! Successfully stored 1487 chunks. Ready for retrieval.\n"
     ]
    }
   ],
   "source": [
    "\n",
    "# 处理所有 chunk 文件，并向量化存储\n",
    "\n",
    "#初始化成功计数器\n",
    "success_count = 0\n",
    "\n",
    "'''计算 embedding 并存入 ChromaDB\n",
    "\n",
    "embedding_model.encode(chunks) 将所有 chunk 转换为向量。\n",
    "遍历所有 chunk，将它们存入向量数据库：\n",
    "ids：存入数据库的唯一标识符（文件名+chunk编号）。\n",
    "embeddings：chunk 对应的向量。\n",
    "metadatas：包含原始文本和来源文件名。\n",
    "'''\n",
    "\n",
    "for chunk_file in chunk_files:\n",
    "    chunk_path = os.path.join(chunk_folder, chunk_file)\n",
    "    print(f\"Processing: {chunk_file}\")\n",
    "\n",
    "    # 根据文件类型处理不同的 chunk 文件\n",
    "    if chunk_file.endswith(\"_text.txt\"):  \n",
    "        chunks = process_chunk_file(chunk_path)\n",
    "    #elif chunk_file.endswith(\"_tables.txt\"):  \n",
    "        #chunks = process_table_file(chunk_path)\n",
    "    else:\n",
    "        continue  # 其他文件忽略\n",
    "\n",
    "    # 如果 chunks 为空，跳过处理\n",
    "    if not chunks:\n",
    "        print(f\"Warning: {chunk_file} has no valid content. Skipping...\")\n",
    "        continue\n",
    "\n",
    "    try:\n",
    "        # 生成 embedding\n",
    "        chunk_embeddings = embedding_model.encode(chunks)\n",
    "\n",
    "        # 存入 ChromaDB\n",
    "        for i, (chunk, embedding) in enumerate(zip(chunks, chunk_embeddings)):\n",
    "            collection.add(\n",
    "                ids=[f\"{chunk_file}_{i}\"],\n",
    "                embeddings=[embedding.tolist()],\n",
    "                metadatas=[{\"text\": chunk, \"source\": chunk_file}]\n",
    "            )\n",
    "            success_count += 1  # 记录成功存储的条数\n",
    "\n",
    "        print(f\"Finished: {chunk_file}, stored {len(chunks)} chunks in vector store\")\n",
    "\n",
    "    except Exception as e:\n",
    "        print(f\"Error processing {chunk_file}: {str(e)}\")\n",
    "\n",
    "print(f\"All done! Successfully stored {success_count} chunks. Ready for retrieval.\")"
   ]
  },
  {
   "cell_type": "code",
   "execution_count": null,
   "metadata": {},
   "outputs": [
    {
     "name": "stdout",
     "output_type": "stream",
     "text": [
      "Total chunks: 541\n",
      "Average chunk length: 77.02 words\n",
      "Shortest chunk: 1 words\n",
      "Longest chunk: 566 words\n",
      "Chunks with < 50 words: 264 (48.80%)\n"
     ]
    }
   ],
   "source": [
    "# 计算 chunk 长度分布\n",
    "chunk_lengths = [len(chunk.split()) for chunk in chunks]\n",
    "\n",
    "print(f\"Total chunks: {len(chunk_lengths)}\")\n",
    "print(f\"Average chunk length: {sum(chunk_lengths) / len(chunk_lengths):.2f} words\")\n",
    "print(f\"Shortest chunk: {min(chunk_lengths)} words\")\n",
    "print(f\"Longest chunk: {max(chunk_lengths)} words\")\n",
    "\n",
    "short_chunks = [length for length in chunk_lengths if length < 50]\n",
    "print(f\"Chunks with < 50 words: {len(short_chunks)} ({len(short_chunks) / len(chunk_lengths) * 100:.2f}%)\")\n"
   ]
  },
  {
   "cell_type": "code",
   "execution_count": null,
   "metadata": {},
   "outputs": [
    {
     "name": "stdout",
     "output_type": "stream",
     "text": [
      "\n",
      "==== Top 5 Retrieved Chunks ====\n",
      "\n",
      "Result 1 (Score: 0.6277):\n",
      "I just missed what you said. I got a little distracted by my anxiety about my dental appointment\n",
      "this afternoon.” “ I feel sad that your mother was so mean to you.” “ It makes me angry that you\n",
      "were so bullied by your parents.” My therapist’s modeling that anger, sadness, fear, and depression were emotions that could\n",
      "be healthily expressed helped me to renounce the pain-repressing, emotional perfectionism in\n",
      "which I was mired. With her, I learned to stop burying my feelings in the hope of being loved. I\n",
      "renounced my just-get-over-it philosophy and embraced vulnerability as a way of finally getting\n",
      "close to people. I needed this kind of modeling, as so many of my clients have, to begin to emerge from my\n",
      "fear of being attacked, shamed or abandoned for feeling bad and having dysphoric feelings.\n",
      "\n",
      "Result 2 (Score: 0.6631):\n",
      "3. EMOTIONAL NURTURANCE: Meeting the child consistently with caring, regard and\n",
      "interest. Welcoming and valuing the child’s full emotional expression. Modeling non-abusive\n",
      "expression of emotions. Teaching safe ways to release anger that do not hurt the child or others. Generous amounts of love, warmth, tenderness, and compassion. Honoring tears as a way of\n",
      "releasing hurt. Being a safe refuge.\n",
      "\n",
      "Result 3 (Score: 0.6786):\n",
      "When it comes to relating, they are often plagued\n",
      "by debilitating social anxiety - and social phobia when they are at the severe end of the\n",
      "continuum of Cptsd. Many of the clients who come through my door have never had a safe enough relationship. Repetition compulsion drives them to unconsciously seek out relationships in adulthood that\n",
      "traumatically reenact the abusive and/or abandoning dynamics of their childhood caretakers. For many such clients, we are their first legitimate shot at a safe and nurturing relationship. If we are not skilled enough to create the degree of safety they need to begin the long journey\n",
      "towards developing good enough trust, we may be their last. Emotional flashback management, therefore, is empowered when it is taught in the context\n",
      "of a safe relationship. Clients need to feel safe enough with their therapist to describe their\n",
      "humiliation and overwhelm. At the same time, the therapist needs to be nurturing enough to\n",
      "provide the empathy and calm support that was missing in the client’s early experience.\n",
      "\n",
      "Result 4 (Score: 0.6803):\n",
      "As unexpressed feelings accumulate, a greater degree of\n",
      "muscular tension is necessary to keep them under wraps. A child who is repeatedly punished for emoting learns to be afraid of inner emotional\n",
      "experience and tightens [armors] the musculature of her body in an effort to hold feelings in and\n",
      "to banish them from awareness. Holding your breath is a further manifestation of armoring. It is an especially common way\n",
      "of keeping feelings at bay, as breathing naturally brings your awareness down to the level of\n",
      "feeling. As my client, Kylie, free associated on the feelings of a particularly intense flashback, she\n",
      "painfully recalled the traumas she underwent trying to avoid her mother’s punishments for\n",
      "crying. Her worst memory was of the day in the supermarket, when her mother’s scolding rained\n",
      "down upon her as she tried to suppress her rapidly mounting urge to cry. Knowing the worst\n",
      "punishment would ensue if she cried, she held her breath to hold back the tears. She held it so\n",
      "long that she fainted from lack of oxygen and cracked her head open on the floor.\n",
      "\n",
      "Result 5 (Score: 0.6907):\n",
      "This helps us to stop automatically dissociating from our\n",
      "feelings. We then learn to identify our feelings and choose healthy ways to respond to them and\n",
      "from them. Such emotional development illuminates our own natural preferences, and, in turn\n",
      "aids us in making easier and better choices. Towards the end of a long term therapy, a male client told me: “Yesterday, I was\n",
      "contemplating what I have discovered in the years of our work together, and I’m amazed at how\n",
      "much my values have shifted away from those of the macho family and culture I grew up in. I\n",
      "feel now like I prefer the arts to science, novels to non-fiction, gardening to watching golf, and\n",
      "hanging out with my partner at home to partying at the bar.” Grieving As Emotional Intelligence\n",
      "Grieving is the key process for reconnecting with our repressed emotional intelligence. Grieving\n",
      "reconnects us with our full complement of feelings. Grieving is necessary to help us release and\n",
      "work through our pain about the terrible losses of our childhoods.\n",
      "\n",
      "Result 6 (Score: 0.6986):\n",
      "Psychotherapy can feel “foreign” to non-Western or underrepresented groups because\n",
      "emotional expression and discussing personal experiences may conflict with certain\n",
      "values. For example, some groups view expressing emotions as weak or unstable. Also,\n",
      "some may view discussing themselves as rude or insensitive to others.\n",
      "\n",
      "Result 7 (Score: 0.6995):\n",
      "In advanced recovery, this occurs when we reduce the habit of automatically shifting our\n",
      "mood to match someone else’s emotional state. By this, I do not mean suppressing empathic\n",
      "attunement when it is genuine. Crying and laughing along with an intimate is a truly wonderful\n",
      "experience. Rather, what I am recommending here is resisting the pressure to pretend you are always\n",
      "feeling the same as someone else. You do not have to laugh when something is not funny. When\n",
      "a friend is feeling bad, you do not have to act like you feel bad. When you are feeling bad, you\n",
      "do not have to act like you feel happy. Thankfully, I learned a great deal about this from being a therapist.\n",
      "\n",
      "Result 8 (Score: 0.7040):\n",
      "This is usually a somatic flashback to previous\n",
      "abuses. In my case, the startle response was installed in me by my parents through frequent face-\n",
      "slapping. As a lap-swimmer in public pools, it has taken me ages to significantly reduce being\n",
      "triggered by the hand and arm movements of people who swim alongside me. I also had to shop around to find a Rosen worker who welcomed my use of the verbal\n",
      "ventilation process. Some practitioners prefer to work in silence, and this limits or eliminates the\n",
      "therapeutic benefit to most survivors. It is also important to emphasize here that somatic therapies can be especially helpful in\n",
      "healing the anxiety reaction to touch and physical closeness that many survivors of physical or\n",
      "sexual abuse experience. Exceptions to this are the survivors that I have met who have\n",
      "experienced remediation of this symptom through the help of an especially kind and safe partner. The Role Of Medication\n",
      "As a psychotherapist, I am not authorized to give pharmaceutical advice, but I have frequently\n",
      "noticed that survivors who need pharmaceutical help seem to benefit most from SSRI anti-\n",
      "depressants.\n",
      "\n",
      "Result 9 (Score: 0.7048):\n",
      "In\n",
      "order to let go of my Sisyphean salvation fantasy of achieving constant happiness, I needed to\n",
      "experience that all the less than shiny bits of me were acceptable to another human being. Seeing\n",
      "that she was comfortable with and accepting of her own unhappy feelings eventually convinced\n",
      "me that she really was not disgusted by mine. The therapist’s judicious use of emotional self-disclosure helps the client move out of the\n",
      "slippery, shame-lined pit of emotional perfectionism. Here are some self-revealing things that I\n",
      "say to encourage my clients to be more emotionally self-accepting. “ I feel really sad about what\n",
      "happened to you.” “ I feel really angry that you got stuck with such a god-awful family.” “ When\n",
      "I’m temporarily confused and don’t know what to say or do, I…” “When I’m having a shame\n",
      "attack, I…” “When something triggers me into fear, I…” “When my inner critic is overreacting,\n",
      "I remind myself of the Winnicottian concept that I only have to be a ‘good enough person.’” Here are two examples of emotional self-disclosure that are fundamental tools of my\n",
      "therapeutic work.\n",
      "\n",
      "Result 10 (Score: 0.7131):\n",
      "If you are unable cry or feel angry, focusing on your breath may help you to emote. This is\n",
      "especially true if you attend to the sensations in your abdominal region as it expands and\n",
      "contracts during respiration. Deep, slow and rhythmic breathing stretches and expands various\n",
      "visceral muscles and internal organs in ways that sometimes bring feelings into awareness. If this does not help, Holotropic Rebirthing and Reichian therapy employ special breathing\n",
      "techniques to help free stuck emotions. I know many survivors who first reclaimed their capacity\n",
      "to emote through these techniques.\n",
      "================================\n",
      "\n"
     ]
    }
   ],
   "source": [
    "query_text = \"In psychological therapy, emotional regulation is a crucial aspect. Patients often experience anxiety, depression, or anger, which may stem from childhood trauma, workplace stress, or interpersonal conflicts.Common emotional regulation techniques include,Mindfulness Meditation: Focusing on the present moment to reduce anxiety about the past and future.\"  # 你要查询的文本\n",
    "query_embedding = embedding_model.encode([query_text])  # 计算查询文本的 embedding\n",
    "\n",
    "# 执行向量检索\n",
    "results = collection.query(\n",
    "    query_embeddings=query_embedding.tolist(),\n",
    "    n_results=10  # 取回最相似的n条记录\n",
    ")\n",
    "\n",
    "print(\"\\n==== Top 5 Retrieved Chunks ====\")\n",
    "for i, (retrieved_text, score) in enumerate(zip(results[\"metadatas\"][0], results[\"distances\"][0])):\n",
    "    print(f\"\\nResult {i+1} (Score: {score:.4f}):\")\n",
    "    print(retrieved_text[\"text\"])\n",
    "print(\"================================\\n\")\n"
   ]
  }
 ],
 "metadata": {
  "kernelspec": {
   "display_name": "pytorchstudy",
   "language": "python",
   "name": "python3"
  },
  "language_info": {
   "codemirror_mode": {
    "name": "ipython",
    "version": 3
   },
   "file_extension": ".py",
   "mimetype": "text/x-python",
   "name": "python",
   "nbconvert_exporter": "python",
   "pygments_lexer": "ipython3",
   "version": "3.10.16"
  }
 },
 "nbformat": 4,
 "nbformat_minor": 2
}
