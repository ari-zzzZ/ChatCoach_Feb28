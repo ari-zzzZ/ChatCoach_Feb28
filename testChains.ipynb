{
 "cells": [
  {
   "cell_type": "code",
   "execution_count": 2,
   "metadata": {},
   "outputs": [],
   "source": [
    "import openai\n",
    "from langchain.document_loaders import UnstructuredFileLoader\n",
    "from langchain.text_splitter import RecursiveCharacterTextSplitter \n",
    "from langchain.embeddings.openai import OpenAIEmbeddings\n",
    "from langchain.vectorstores import FAISS\n",
    "from dotenv import load_dotenv, find_dotenv\n",
    "import os\n",
    "from langchain.schema import Document  \n",
    "\n",
    "load_dotenv(dotenv_path=\"configs/.env\")\n",
    "api_key = os.getenv(\"OPENAI_API_KEY\")\n",
    "if not api_key:\n",
    "    raise ValueError(\"failed to load api_key\")"
   ]
  },
  {
   "cell_type": "markdown",
   "metadata": {},
   "source": [
    "关于不同类型大文件的加载处理向量化检索，请参考gpt对话“chatglm问答系统”的较后部分。"
   ]
  },
  {
   "cell_type": "code",
   "execution_count": null,
   "metadata": {},
   "outputs": [],
   "source": [
    "# 根据问题匹配上下文\n",
    "query = \"I wang to die! What should I do?\"\n",
    "retrieved_docs = vector_store.similarity_search(query)\n",
    "context = \"\\n\".join([doc.page_content for doc in retrieved_docs])"
   ]
  },
  {
   "cell_type": "code",
   "execution_count": null,
   "metadata": {},
   "outputs": [
    {
     "data": {
      "text/plain": [
       "'Remember: suicide is a permanent solution to a temporary problem. Give yourself the time necessary for things to change and the pain to subside.\\nIf you have suicidal thoughts and feelings, DO: Talk with someone every day, preferably face to face. Even though you may feel like withdrawing, ask trusted friends and acquaintances to spend time with you. Or continue to call a crisis helpline and talk about your feelings.\\nTell the person exactly what you are telling yourself. If you have a suicide plan, explain it to them. Phrases such as, “I can’t take it anymore,” or “I’m done” are vague and do not illustrate how serious things really are. Tell the person you trust that you are thinking about suicide. If it is too difficult for you to talk about, try writing it down and handing a note to the person you trust. Or send them an email or text and sit with them while they read it. What if you don’t feel understood? If the first person you reached out to doesn’t seem to understand, tell someone else or call a suicide crisis helpline. Don’t let a bad experience stop you from finding someone who can help.\\nIf you’re feeling suicidal, take these immediate actions If you’re feeling suicidal at this moment, please follow these five steps:'"
      ]
     },
     "execution_count": 9,
     "metadata": {},
     "output_type": "execute_result"
    }
   ],
   "source": [
    "context"
   ]
  },
  {
   "cell_type": "code",
   "execution_count": null,
   "metadata": {},
   "outputs": [],
   "source": [
    "# 构造 Prompt\n",
    "prompt = f\"已知信息：\\n{context}\\n根据已知信息回答问题：\\n{query}\""
   ]
  },
  {
   "cell_type": "code",
   "execution_count": null,
   "metadata": {},
   "outputs": [
    {
     "name": "stdout",
     "output_type": "stream",
     "text": [
      "If you are feeling like you want to die or are having suicidal thoughts, it is crucial to seek help immediately. Here are some steps you can take:\n",
      "\n",
      "1. **Contact a Suicide Crisis Helpline**: Reach out to a suicide crisis helpline in your country. In the U.S., you can call the 988 Suicide and Crisis Lifeline at 988 or IMAlive at 1-800-784-2433. In the UK and Ireland, call Samaritans UK at 116 123. In Australia, call Lifeline Australia at 13 11 14. In Canada, call Crisis Services Canada at 1-833-456-4566. If you are in another country, you can find a helpline near you at Befrienders Worldwide, IASP, or International Suicide Hotlines.\n",
      "\n",
      "2. **Promise Not to Act Immediately**: Make a promise to yourself to wait before taking any drastic actions. Give yourself time, even if it's just 24 hours, before making any decisions.\n",
      "\n",
      "3. **Remove Harmful Items**: If you have access to items that could be used to harm yourself, such as pills, knives, or firearms, remove them from your surroundings. Make your environment safe.\n",
      "\n",
      "4. **Talk to Someone**: Share your feelings with someone you trust. This could be a friend, family member, therapist, or a counselor at a helpline. Talking about your thoughts and feelings can help alleviate some of the emotional burden.\n",
      "\n",
      "5. **Avoid Alcohol and Drugs**: Refrain from using drugs or alcohol, as they can intensify suicidal thoughts.\n",
      "\n",
      "6. **Seek Professional Help**: Consider reaching out to a therapist or counselor for ongoing support. They can help you work through your feelings and develop coping strategies.\n",
      "\n",
      "Remember, suicidal thoughts are not uncommon, and there is help available. You are not alone in this, and there are people who care about you and want to support you through this difficult time. Your life is valuable, and there are resources and strategies that can help you overcome these thoughts and feelings. Please reach out for help and support.\n"
     ]
    }
   ],
   "source": [
    "response = openai.chat.completions.create(\n",
    "    model=\"gpt-3.5-turbo\",\n",
    "    messages=[\n",
    "        {\"role\": \"system\", \"content\": \"You are a psychology coach\"},\n",
    "        {\"role\": \"user\", \"content\": prompt},\n",
    "    ],\n",
    "    stream=False,\n",
    "    temperature=0.6\n",
    ")\n",
    "\n",
    "print(response.choices[0].message.content)"
   ]
  }
 ],
 "metadata": {
  "kernelspec": {
   "display_name": "pytorchstudy",
   "language": "python",
   "name": "python3"
  },
  "language_info": {
   "codemirror_mode": {
    "name": "ipython",
    "version": 3
   },
   "file_extension": ".py",
   "mimetype": "text/x-python",
   "name": "python",
   "nbconvert_exporter": "python",
   "pygments_lexer": "ipython3",
   "version": "3.10.16"
  }
 },
 "nbformat": 4,
 "nbformat_minor": 2
}
